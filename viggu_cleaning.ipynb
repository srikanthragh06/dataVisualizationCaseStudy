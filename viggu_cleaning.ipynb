{
 "cells": [
  {
   "cell_type": "code",
   "execution_count": 2,
   "metadata": {},
   "outputs": [
    {
     "data": {
      "text/html": [
       "<div>\n",
       "<style scoped>\n",
       "    .dataframe tbody tr th:only-of-type {\n",
       "        vertical-align: middle;\n",
       "    }\n",
       "\n",
       "    .dataframe tbody tr th {\n",
       "        vertical-align: top;\n",
       "    }\n",
       "\n",
       "    .dataframe thead th {\n",
       "        text-align: right;\n",
       "    }\n",
       "</style>\n",
       "<table border=\"1\" class=\"dataframe\">\n",
       "  <thead>\n",
       "    <tr style=\"text-align: right;\">\n",
       "      <th></th>\n",
       "      <th>Unnamed: 0.1</th>\n",
       "      <th>Unnamed: 0</th>\n",
       "      <th>zpid</th>\n",
       "      <th>rawHomeStatusCd</th>\n",
       "      <th>marketingStatusSimplifiedCd</th>\n",
       "      <th>imgSrc</th>\n",
       "      <th>hasImage</th>\n",
       "      <th>detailUrl</th>\n",
       "      <th>statusType</th>\n",
       "      <th>statusText</th>\n",
       "      <th>...</th>\n",
       "      <th>info2String</th>\n",
       "      <th>badgeInfo.type</th>\n",
       "      <th>badgeInfo.text</th>\n",
       "      <th>hdpData.homeInfo.listing_sub_type.is_forAuction</th>\n",
       "      <th>isR4R</th>\n",
       "      <th>hdpData.homeInfo.rentalMarketingSubType</th>\n",
       "      <th>communityName</th>\n",
       "      <th>isCdpResult</th>\n",
       "      <th>isComingSoonCommunity</th>\n",
       "      <th>style</th>\n",
       "    </tr>\n",
       "  </thead>\n",
       "  <tbody>\n",
       "    <tr>\n",
       "      <th>0</th>\n",
       "      <td>0</td>\n",
       "      <td>0</td>\n",
       "      <td>59141778.0</td>\n",
       "      <td>Pending</td>\n",
       "      <td>Non Owner Occupied</td>\n",
       "      <td>https://photos.zillowstatic.com/fp/8e78d9c3127...</td>\n",
       "      <td>True</td>\n",
       "      <td>/homedetails/9-Robken-Rd-Roslindale-MA-02131/5...</td>\n",
       "      <td>SOLD</td>\n",
       "      <td>Sold</td>\n",
       "      <td>...</td>\n",
       "      <td>NaN</td>\n",
       "      <td>NaN</td>\n",
       "      <td>NaN</td>\n",
       "      <td>NaN</td>\n",
       "      <td>NaN</td>\n",
       "      <td>NaN</td>\n",
       "      <td>NaN</td>\n",
       "      <td>NaN</td>\n",
       "      <td>NaN</td>\n",
       "      <td>NaN</td>\n",
       "    </tr>\n",
       "    <tr>\n",
       "      <th>1</th>\n",
       "      <td>1</td>\n",
       "      <td>1</td>\n",
       "      <td>59172422.0</td>\n",
       "      <td>RecentlySold</td>\n",
       "      <td>RecentChange</td>\n",
       "      <td>https://photos.zillowstatic.com/fp/17fa75ec2c3...</td>\n",
       "      <td>True</td>\n",
       "      <td>/homedetails/130-Appleton-St-APT-2A-Boston-MA-...</td>\n",
       "      <td>SOLD</td>\n",
       "      <td>Sold</td>\n",
       "      <td>...</td>\n",
       "      <td>NaN</td>\n",
       "      <td>NaN</td>\n",
       "      <td>NaN</td>\n",
       "      <td>NaN</td>\n",
       "      <td>NaN</td>\n",
       "      <td>NaN</td>\n",
       "      <td>NaN</td>\n",
       "      <td>NaN</td>\n",
       "      <td>NaN</td>\n",
       "      <td>NaN</td>\n",
       "    </tr>\n",
       "    <tr>\n",
       "      <th>2</th>\n",
       "      <td>2</td>\n",
       "      <td>2</td>\n",
       "      <td>NaN</td>\n",
       "      <td>NaN</td>\n",
       "      <td>NaN</td>\n",
       "      <td>https://photos.zillowstatic.com/fp/db4bb4b2af8...</td>\n",
       "      <td>True</td>\n",
       "      <td>/b/70-leo-m-birmingham-pkwy-brighton-ma-5j3ZG6/</td>\n",
       "      <td>SOLD</td>\n",
       "      <td>For Rent</td>\n",
       "      <td>...</td>\n",
       "      <td>NaN</td>\n",
       "      <td>NaN</td>\n",
       "      <td>NaN</td>\n",
       "      <td>NaN</td>\n",
       "      <td>NaN</td>\n",
       "      <td>NaN</td>\n",
       "      <td>NaN</td>\n",
       "      <td>NaN</td>\n",
       "      <td>NaN</td>\n",
       "      <td>NaN</td>\n",
       "    </tr>\n",
       "    <tr>\n",
       "      <th>3</th>\n",
       "      <td>3</td>\n",
       "      <td>3</td>\n",
       "      <td>59109603.0</td>\n",
       "      <td>RecentlySold</td>\n",
       "      <td>RecentChange</td>\n",
       "      <td>https://photos.zillowstatic.com/fp/72bb4e8b21a...</td>\n",
       "      <td>True</td>\n",
       "      <td>/homedetails/64-Bakersfield-St-Dorchester-MA-0...</td>\n",
       "      <td>SOLD</td>\n",
       "      <td>Sold</td>\n",
       "      <td>...</td>\n",
       "      <td>NaN</td>\n",
       "      <td>NaN</td>\n",
       "      <td>NaN</td>\n",
       "      <td>NaN</td>\n",
       "      <td>NaN</td>\n",
       "      <td>NaN</td>\n",
       "      <td>NaN</td>\n",
       "      <td>NaN</td>\n",
       "      <td>NaN</td>\n",
       "      <td>NaN</td>\n",
       "    </tr>\n",
       "    <tr>\n",
       "      <th>4</th>\n",
       "      <td>4</td>\n",
       "      <td>4</td>\n",
       "      <td>59110140.0</td>\n",
       "      <td>RecentlySold</td>\n",
       "      <td>RecentChange</td>\n",
       "      <td>https://photos.zillowstatic.com/fp/831ef787fbd...</td>\n",
       "      <td>True</td>\n",
       "      <td>/homedetails/123-Norwell-St-Dorchester-MA-0212...</td>\n",
       "      <td>SOLD</td>\n",
       "      <td>Sold</td>\n",
       "      <td>...</td>\n",
       "      <td>NaN</td>\n",
       "      <td>NaN</td>\n",
       "      <td>NaN</td>\n",
       "      <td>NaN</td>\n",
       "      <td>NaN</td>\n",
       "      <td>NaN</td>\n",
       "      <td>NaN</td>\n",
       "      <td>NaN</td>\n",
       "      <td>NaN</td>\n",
       "      <td>NaN</td>\n",
       "    </tr>\n",
       "  </tbody>\n",
       "</table>\n",
       "<p>5 rows × 111 columns</p>\n",
       "</div>"
      ],
      "text/plain": [
       "   Unnamed: 0.1  Unnamed: 0        zpid rawHomeStatusCd  \\\n",
       "0             0           0  59141778.0         Pending   \n",
       "1             1           1  59172422.0    RecentlySold   \n",
       "2             2           2         NaN             NaN   \n",
       "3             3           3  59109603.0    RecentlySold   \n",
       "4             4           4  59110140.0    RecentlySold   \n",
       "\n",
       "  marketingStatusSimplifiedCd  \\\n",
       "0          Non Owner Occupied   \n",
       "1                RecentChange   \n",
       "2                         NaN   \n",
       "3                RecentChange   \n",
       "4                RecentChange   \n",
       "\n",
       "                                              imgSrc hasImage  \\\n",
       "0  https://photos.zillowstatic.com/fp/8e78d9c3127...     True   \n",
       "1  https://photos.zillowstatic.com/fp/17fa75ec2c3...     True   \n",
       "2  https://photos.zillowstatic.com/fp/db4bb4b2af8...     True   \n",
       "3  https://photos.zillowstatic.com/fp/72bb4e8b21a...     True   \n",
       "4  https://photos.zillowstatic.com/fp/831ef787fbd...     True   \n",
       "\n",
       "                                           detailUrl statusType statusText  \\\n",
       "0  /homedetails/9-Robken-Rd-Roslindale-MA-02131/5...       SOLD       Sold   \n",
       "1  /homedetails/130-Appleton-St-APT-2A-Boston-MA-...       SOLD       Sold   \n",
       "2    /b/70-leo-m-birmingham-pkwy-brighton-ma-5j3ZG6/       SOLD   For Rent   \n",
       "3  /homedetails/64-Bakersfield-St-Dorchester-MA-0...       SOLD       Sold   \n",
       "4  /homedetails/123-Norwell-St-Dorchester-MA-0212...       SOLD       Sold   \n",
       "\n",
       "   ... info2String badgeInfo.type badgeInfo.text  \\\n",
       "0  ...         NaN            NaN            NaN   \n",
       "1  ...         NaN            NaN            NaN   \n",
       "2  ...         NaN            NaN            NaN   \n",
       "3  ...         NaN            NaN            NaN   \n",
       "4  ...         NaN            NaN            NaN   \n",
       "\n",
       "   hdpData.homeInfo.listing_sub_type.is_forAuction  isR4R  \\\n",
       "0                                              NaN    NaN   \n",
       "1                                              NaN    NaN   \n",
       "2                                              NaN    NaN   \n",
       "3                                              NaN    NaN   \n",
       "4                                              NaN    NaN   \n",
       "\n",
       "   hdpData.homeInfo.rentalMarketingSubType communityName isCdpResult  \\\n",
       "0                                      NaN           NaN         NaN   \n",
       "1                                      NaN           NaN         NaN   \n",
       "2                                      NaN           NaN         NaN   \n",
       "3                                      NaN           NaN         NaN   \n",
       "4                                      NaN           NaN         NaN   \n",
       "\n",
       "  isComingSoonCommunity style  \n",
       "0                   NaN   NaN  \n",
       "1                   NaN   NaN  \n",
       "2                   NaN   NaN  \n",
       "3                   NaN   NaN  \n",
       "4                   NaN   NaN  \n",
       "\n",
       "[5 rows x 111 columns]"
      ]
     },
     "execution_count": 2,
     "metadata": {},
     "output_type": "execute_result"
    }
   ],
   "source": [
    "import pandas as pd\n",
    "df = pd.read_csv(r'American_house_prices_dataset.csv')\n",
    "df.head()"
   ]
  },
  {
   "cell_type": "code",
   "execution_count": 3,
   "metadata": {},
   "outputs": [
    {
     "name": "stdout",
     "output_type": "stream",
     "text": [
      "<class 'pandas.core.frame.DataFrame'>\n",
      "RangeIndex: 7503 entries, 0 to 7502\n",
      "Columns: 111 entries, Unnamed: 0.1 to style\n",
      "dtypes: bool(1), float64(32), int64(2), object(76)\n",
      "memory usage: 6.3+ MB\n"
     ]
    }
   ],
   "source": [
    "df.info()"
   ]
  },
  {
   "cell_type": "code",
   "execution_count": 4,
   "metadata": {},
   "outputs": [],
   "source": [
    "df.drop(df.iloc[:,[0,1]],axis=1,inplace=True)"
   ]
  },
  {
   "cell_type": "code",
   "execution_count": 5,
   "metadata": {},
   "outputs": [
    {
     "name": "stdout",
     "output_type": "stream",
     "text": [
      "109\n"
     ]
    }
   ],
   "source": [
    "null_=df.isnull().sum()\n",
    "print(null_.shape[0])\n",
    "#print(df.shape[1])"
   ]
  },
  {
   "cell_type": "code",
   "execution_count": 6,
   "metadata": {},
   "outputs": [
    {
     "name": "stdout",
     "output_type": "stream",
     "text": [
      "50\n"
     ]
    }
   ],
   "source": [
    "null_index=null_[null_.iloc[:]>0.20*df.shape[0]].index\n",
    "print(len(null_index))"
   ]
  },
  {
   "cell_type": "code",
   "execution_count": 7,
   "metadata": {},
   "outputs": [],
   "source": [
    "df.drop(columns=null_index,axis=1,inplace=True)"
   ]
  },
  {
   "cell_type": "code",
   "execution_count": 8,
   "metadata": {},
   "outputs": [
    {
     "data": {
      "text/html": [
       "<div>\n",
       "<style scoped>\n",
       "    .dataframe tbody tr th:only-of-type {\n",
       "        vertical-align: middle;\n",
       "    }\n",
       "\n",
       "    .dataframe tbody tr th {\n",
       "        vertical-align: top;\n",
       "    }\n",
       "\n",
       "    .dataframe thead th {\n",
       "        text-align: right;\n",
       "    }\n",
       "</style>\n",
       "<table border=\"1\" class=\"dataframe\">\n",
       "  <thead>\n",
       "    <tr style=\"text-align: right;\">\n",
       "      <th></th>\n",
       "      <th>zpid</th>\n",
       "      <th>rawHomeStatusCd</th>\n",
       "      <th>marketingStatusSimplifiedCd</th>\n",
       "      <th>imgSrc</th>\n",
       "      <th>hasImage</th>\n",
       "      <th>detailUrl</th>\n",
       "      <th>statusType</th>\n",
       "      <th>statusText</th>\n",
       "      <th>price</th>\n",
       "      <th>priceLabel</th>\n",
       "      <th>...</th>\n",
       "      <th>hdpData.homeInfo.isUnmappable</th>\n",
       "      <th>hdpData.homeInfo.isPreforeclosureAuction</th>\n",
       "      <th>hdpData.homeInfo.priceForHDP</th>\n",
       "      <th>hdpData.homeInfo.isNonOwnerOccupied</th>\n",
       "      <th>hdpData.homeInfo.isPremierBuilder</th>\n",
       "      <th>hdpData.homeInfo.isZillowOwned</th>\n",
       "      <th>hdpData.homeInfo.currency</th>\n",
       "      <th>hdpData.homeInfo.country</th>\n",
       "      <th>hdpData.homeInfo.isShowcaseListing</th>\n",
       "      <th>hdpData.homeInfo.homeStatusForHDP</th>\n",
       "    </tr>\n",
       "  </thead>\n",
       "  <tbody>\n",
       "    <tr>\n",
       "      <th>0</th>\n",
       "      <td>59141778.0</td>\n",
       "      <td>Pending</td>\n",
       "      <td>Non Owner Occupied</td>\n",
       "      <td>https://photos.zillowstatic.com/fp/8e78d9c3127...</td>\n",
       "      <td>True</td>\n",
       "      <td>/homedetails/9-Robken-Rd-Roslindale-MA-02131/5...</td>\n",
       "      <td>SOLD</td>\n",
       "      <td>Sold</td>\n",
       "      <td>$819,500</td>\n",
       "      <td>$820K</td>\n",
       "      <td>...</td>\n",
       "      <td>False</td>\n",
       "      <td>False</td>\n",
       "      <td>819500.0</td>\n",
       "      <td>True</td>\n",
       "      <td>False</td>\n",
       "      <td>False</td>\n",
       "      <td>USD</td>\n",
       "      <td>USA</td>\n",
       "      <td>False</td>\n",
       "      <td>NaN</td>\n",
       "    </tr>\n",
       "    <tr>\n",
       "      <th>1</th>\n",
       "      <td>59172422.0</td>\n",
       "      <td>RecentlySold</td>\n",
       "      <td>RecentChange</td>\n",
       "      <td>https://photos.zillowstatic.com/fp/17fa75ec2c3...</td>\n",
       "      <td>True</td>\n",
       "      <td>/homedetails/130-Appleton-St-APT-2A-Boston-MA-...</td>\n",
       "      <td>SOLD</td>\n",
       "      <td>Sold</td>\n",
       "      <td>$880,000</td>\n",
       "      <td>$880K</td>\n",
       "      <td>...</td>\n",
       "      <td>False</td>\n",
       "      <td>False</td>\n",
       "      <td>880000.0</td>\n",
       "      <td>True</td>\n",
       "      <td>False</td>\n",
       "      <td>False</td>\n",
       "      <td>USD</td>\n",
       "      <td>USA</td>\n",
       "      <td>False</td>\n",
       "      <td>RECENTLY_SOLD</td>\n",
       "    </tr>\n",
       "    <tr>\n",
       "      <th>2</th>\n",
       "      <td>NaN</td>\n",
       "      <td>NaN</td>\n",
       "      <td>NaN</td>\n",
       "      <td>https://photos.zillowstatic.com/fp/db4bb4b2af8...</td>\n",
       "      <td>True</td>\n",
       "      <td>/b/70-leo-m-birmingham-pkwy-brighton-ma-5j3ZG6/</td>\n",
       "      <td>SOLD</td>\n",
       "      <td>For Rent</td>\n",
       "      <td>NaN</td>\n",
       "      <td>NaN</td>\n",
       "      <td>...</td>\n",
       "      <td>NaN</td>\n",
       "      <td>NaN</td>\n",
       "      <td>NaN</td>\n",
       "      <td>NaN</td>\n",
       "      <td>NaN</td>\n",
       "      <td>NaN</td>\n",
       "      <td>NaN</td>\n",
       "      <td>NaN</td>\n",
       "      <td>NaN</td>\n",
       "      <td>NaN</td>\n",
       "    </tr>\n",
       "    <tr>\n",
       "      <th>3</th>\n",
       "      <td>59109603.0</td>\n",
       "      <td>RecentlySold</td>\n",
       "      <td>RecentChange</td>\n",
       "      <td>https://photos.zillowstatic.com/fp/72bb4e8b21a...</td>\n",
       "      <td>True</td>\n",
       "      <td>/homedetails/64-Bakersfield-St-Dorchester-MA-0...</td>\n",
       "      <td>SOLD</td>\n",
       "      <td>Sold</td>\n",
       "      <td>$1.25M</td>\n",
       "      <td>$1.25M</td>\n",
       "      <td>...</td>\n",
       "      <td>False</td>\n",
       "      <td>False</td>\n",
       "      <td>1250000.0</td>\n",
       "      <td>True</td>\n",
       "      <td>False</td>\n",
       "      <td>False</td>\n",
       "      <td>USD</td>\n",
       "      <td>USA</td>\n",
       "      <td>False</td>\n",
       "      <td>RECENTLY_SOLD</td>\n",
       "    </tr>\n",
       "    <tr>\n",
       "      <th>4</th>\n",
       "      <td>59110140.0</td>\n",
       "      <td>RecentlySold</td>\n",
       "      <td>RecentChange</td>\n",
       "      <td>https://photos.zillowstatic.com/fp/831ef787fbd...</td>\n",
       "      <td>True</td>\n",
       "      <td>/homedetails/123-Norwell-St-Dorchester-MA-0212...</td>\n",
       "      <td>SOLD</td>\n",
       "      <td>Sold</td>\n",
       "      <td>$805,000</td>\n",
       "      <td>$805K</td>\n",
       "      <td>...</td>\n",
       "      <td>False</td>\n",
       "      <td>False</td>\n",
       "      <td>805000.0</td>\n",
       "      <td>True</td>\n",
       "      <td>False</td>\n",
       "      <td>False</td>\n",
       "      <td>USD</td>\n",
       "      <td>USA</td>\n",
       "      <td>False</td>\n",
       "      <td>RECENTLY_SOLD</td>\n",
       "    </tr>\n",
       "  </tbody>\n",
       "</table>\n",
       "<p>5 rows × 59 columns</p>\n",
       "</div>"
      ],
      "text/plain": [
       "         zpid rawHomeStatusCd marketingStatusSimplifiedCd  \\\n",
       "0  59141778.0         Pending          Non Owner Occupied   \n",
       "1  59172422.0    RecentlySold                RecentChange   \n",
       "2         NaN             NaN                         NaN   \n",
       "3  59109603.0    RecentlySold                RecentChange   \n",
       "4  59110140.0    RecentlySold                RecentChange   \n",
       "\n",
       "                                              imgSrc hasImage  \\\n",
       "0  https://photos.zillowstatic.com/fp/8e78d9c3127...     True   \n",
       "1  https://photos.zillowstatic.com/fp/17fa75ec2c3...     True   \n",
       "2  https://photos.zillowstatic.com/fp/db4bb4b2af8...     True   \n",
       "3  https://photos.zillowstatic.com/fp/72bb4e8b21a...     True   \n",
       "4  https://photos.zillowstatic.com/fp/831ef787fbd...     True   \n",
       "\n",
       "                                           detailUrl statusType statusText  \\\n",
       "0  /homedetails/9-Robken-Rd-Roslindale-MA-02131/5...       SOLD       Sold   \n",
       "1  /homedetails/130-Appleton-St-APT-2A-Boston-MA-...       SOLD       Sold   \n",
       "2    /b/70-leo-m-birmingham-pkwy-brighton-ma-5j3ZG6/       SOLD   For Rent   \n",
       "3  /homedetails/64-Bakersfield-St-Dorchester-MA-0...       SOLD       Sold   \n",
       "4  /homedetails/123-Norwell-St-Dorchester-MA-0212...       SOLD       Sold   \n",
       "\n",
       "      price priceLabel  ... hdpData.homeInfo.isUnmappable  \\\n",
       "0  $819,500      $820K  ...                         False   \n",
       "1  $880,000      $880K  ...                         False   \n",
       "2       NaN        NaN  ...                           NaN   \n",
       "3    $1.25M     $1.25M  ...                         False   \n",
       "4  $805,000      $805K  ...                         False   \n",
       "\n",
       "   hdpData.homeInfo.isPreforeclosureAuction  hdpData.homeInfo.priceForHDP  \\\n",
       "0                                     False                      819500.0   \n",
       "1                                     False                      880000.0   \n",
       "2                                       NaN                           NaN   \n",
       "3                                     False                     1250000.0   \n",
       "4                                     False                      805000.0   \n",
       "\n",
       "   hdpData.homeInfo.isNonOwnerOccupied hdpData.homeInfo.isPremierBuilder  \\\n",
       "0                                 True                             False   \n",
       "1                                 True                             False   \n",
       "2                                  NaN                               NaN   \n",
       "3                                 True                             False   \n",
       "4                                 True                             False   \n",
       "\n",
       "  hdpData.homeInfo.isZillowOwned hdpData.homeInfo.currency  \\\n",
       "0                          False                       USD   \n",
       "1                          False                       USD   \n",
       "2                            NaN                       NaN   \n",
       "3                          False                       USD   \n",
       "4                          False                       USD   \n",
       "\n",
       "  hdpData.homeInfo.country hdpData.homeInfo.isShowcaseListing  \\\n",
       "0                      USA                              False   \n",
       "1                      USA                              False   \n",
       "2                      NaN                                NaN   \n",
       "3                      USA                              False   \n",
       "4                      USA                              False   \n",
       "\n",
       "   hdpData.homeInfo.homeStatusForHDP  \n",
       "0                                NaN  \n",
       "1                      RECENTLY_SOLD  \n",
       "2                                NaN  \n",
       "3                      RECENTLY_SOLD  \n",
       "4                      RECENTLY_SOLD  \n",
       "\n",
       "[5 rows x 59 columns]"
      ]
     },
     "execution_count": 8,
     "metadata": {},
     "output_type": "execute_result"
    }
   ],
   "source": [
    "df.head()"
   ]
  },
  {
   "cell_type": "code",
   "execution_count": 53,
   "metadata": {},
   "outputs": [],
   "source": [
    "# df.to_csv(\"american_hpd.csv\",index=False)"
   ]
  },
  {
   "cell_type": "code",
   "execution_count": 9,
   "metadata": {},
   "outputs": [
    {
     "name": "stdout",
     "output_type": "stream",
     "text": [
      "Index([   2,    8,   10,   11,   13,   20,   22,   25,   26,   27,\n",
      "       ...\n",
      "       7464, 7466, 7467, 7468, 7475, 7486, 7487, 7489, 7491, 7502],\n",
      "      dtype='int64', length=1297)\n"
     ]
    }
   ],
   "source": [
    "indices_to_remove=df[df['hdpData.homeInfo.priceForHDP'].isnull()==True].index\n",
    "print(indices_to_remove)\n"
   ]
  },
  {
   "cell_type": "code",
   "execution_count": 10,
   "metadata": {},
   "outputs": [],
   "source": [
    "# Assuming 'indices_to_remove' is a list of indices you want to remove\n",
    "df.drop(index=indices_to_remove, inplace=True)\n"
   ]
  },
  {
   "cell_type": "code",
   "execution_count": 11,
   "metadata": {},
   "outputs": [
    {
     "data": {
      "text/plain": [
       "6206"
      ]
     },
     "execution_count": 11,
     "metadata": {},
     "output_type": "execute_result"
    }
   ],
   "source": [
    "df.shape[0]"
   ]
  },
  {
   "cell_type": "markdown",
   "metadata": {},
   "source": [
    "1.hdpData.homeInfo.country-since every country is usa\n",
    "\n",
    "2.hdpData.homeInfo.currency- obivously dollars\n",
    "\n",
    "3.hdpData.homeInfo.priceForHDP and (price) - both has same but first one has int data type directly but not second one\n",
    "\n",
    "4.priceLabel - price is just written in K's\n",
    "\n",
    "5.address - address has been divided into columns already we don't need it\n",
    "\n",
    "6.detailUrl - it's a link\n",
    "\n",
    "7.imgSrc - no significance\n",
    "\n",
    "8.hdpData.homeInfo.zpid, 9.zpid - useless\n",
    "\n",
    "10.shouldShowZestimateAsPrice - 7502 are false and blanks / 1 true value\n",
    "\n",
    "has3DModel - useless may be usefull, more false and less true \n",
    "\n",
    "hasVide0 - useless may be usefull,  more false and less true \n",
    "\n",
    "11.isHomeRec - only false and null (home recommendation) so it can have same reason as 15(visited)\n",
    "\n",
    "12.isShowcaseListing-redundant with hdpData.homeInfo.isShowcaseListing\n",
    "\n",
    "13.isFavorite-useless\n",
    "\n",
    "14 ( isFeaturedListing ) - it has many false and few true's\n",
    "\n",
    "15 visited - if nobody visits they gave false so they know who visited and who are not so null values means they didnot get the data\n",
    "\n",
    "16.info6String - it has more 6500 blanks and 600 rows has many names\n",
    "\n",
    "17,18. hdpData.homeInfo.latitude, hdpData.homeInfo.longitude - we lattitude and longitude attributes and these two columns has null values but \"lattitude\" and \"longitude\" doesnt have null values\n",
    "\n",
    "hdpData.homeInfo.dateSold - instead of having date it has some weird number we need to check this \n",
    "\n",
    "19,20,21. hdpData.homeInfo.bathrooms,hdpData.homeInfo.bedrooms,hdpData.homeInfo.livingArea - redundant\n",
    "\n",
    "hdpData.homeInfo.daysOnZillow - it has just -1 and null values but may be important mostly not\n",
    "\n",
    "hdpData.homeInfo.isFeatured - it has 7481 rows with just false and null values, i don't think it will be usefull\n",
    "\n",
    "22,23,24. ( hdpData.homeInfo.shouldHighlight, hdpData.homeInfo.isUnmappable, hdpData.homeInfo.isPreforeclosureAuction ) - it has just false and null values\n",
    "\n",
    "25.hdpData.homeInfo.priceForHDP - redundant\n",
    "\n",
    "hdpData.homeInfo.isNonOwnerOccupied - it has only true and null values\n",
    "\n",
    "hdpData.homeInfo.isPremierBuilder - it has only false and null values but with above columns it perfectly correlated , so we need to think about this\n",
    "\n",
    "hdpData.homeInfo.isZillowOwned - like isPremierBuilder is also correlated with above two \n",
    "i.e, all three are correlated either positively or negatively\n",
    "\n",
    "hdpData.homeInfo.isShowcaseListing - all four are correlated we need to think\n",
    "\n",
    "hdpData.homeInfo.streetAddress - 6202 unique values out of 6206 so no use\n",
    "\n",
    "hdpData.homeInfo.zipcode - zipcode has many unique city codes and these any won't contribute info for information \n",
    "\n",
    "hdpData.homeInfo.homeStatus - \"recently sold\" and \"pending\" are column values this is dataset of sold houses and many columns has recently sold \n",
    " \n",
    "hdpData.homeInfo.homeStatusForHDP - useless data like above but has 5 or 6 unique values more than 6000 are recently sold\n",
    "\n",
    "hdpData.homeInfo.isUnmappable, hdpData.homeInfo.isPreforeclosureAuction - only false and blanks no use\n",
    "\n",
    "rawHomeStatusCd,marketingStatusSimplifiedCd,statusType,statusText - no use\n",
    "\n",
    "isUserConfirmedClaim-only false and null\n",
    "\n"
   ]
  },
  {
   "cell_type": "code",
   "execution_count": 12,
   "metadata": {},
   "outputs": [
    {
     "name": "stdout",
     "output_type": "stream",
     "text": [
      "[  18 6188]\n",
      "2\n"
     ]
    }
   ],
   "source": [
    "# hdpData.homeInfo.streetAddress, hdpData.homeInfo.homeStatus\n",
    "\n",
    "import numpy as np\n",
    "y=df['hdpData.homeInfo.homeStatus']\n",
    "x=df['hdpData.homeInfo.homeStatus'].value_counts().values\n",
    "z=np.unique(x)\n",
    "print(z)\n",
    "print(y.nunique())\n",
    "# print(arr[arr > constant])"
   ]
  },
  {
   "cell_type": "code",
   "execution_count": 13,
   "metadata": {},
   "outputs": [
    {
     "name": "stdout",
     "output_type": "stream",
     "text": [
      "2\n",
      "9\n",
      "13\n",
      "10\n",
      "1\n",
      "35\n",
      "24\n"
     ]
    }
   ],
   "source": [
    "columns_1=['hdpData.homeInfo.country','hdpData.homeInfo.currency'] # obivious\n",
    "columns_2=['price','priceLabel','address','isShowcaseListing','hdpData.homeInfo.bathrooms',\n",
    "           'hdpData.homeInfo.bedrooms','hdpData.homeInfo.livingArea','hdpData.homeInfo.latitude','hdpData.homeInfo.longitude'] # redundant\n",
    "# we can write code and remove columns may be using correlation or covariance bcoz these values corr for redundant columns is 1 and covariance is 0 \n",
    "# but few cols may have entirely different col values but may have good correlation then we may loose a col\n",
    "# but here these cols same values with different col names\n",
    "columns_3=['zpid','hdpData.homeInfo.zpid','detailUrl','imgSrc','isFavorite','visited','hdpData.homeInfo.homeStatus','hdpData.homeInfo.homeStatusForHDP',\n",
    "           'hdpData.homeInfo.daysOnZillow','hdpData.homeInfo.dateSold','isHomeRec','hdpData.homeInfo.streetAddress','hdpData.homeInfo.zipcode'] # useless\n",
    "# cannot be coded for these cols , removing these cols manually is better  \n",
    "columns_4=['shouldShowZestimateAsPrice','isFeaturedListing','hdpData.homeInfo.isFeatured','hdpData.homeInfo.isNonOwnerOccupied',\n",
    "           'hdpData.homeInfo.isPremierBuilder','hdpData.homeInfo.isZillowOwned','has3DModel','hasVide0',\n",
    "           'hdpData.homeInfo.isUnmappable','hdpData.homeInfo.isPreforeclosureAuction'] # more false and less true and may have null values/ too many false's\n",
    "# we use for loop and remove cols for either col_value percentage is too high\n",
    "columns_5=['info6String'] # non-sense\n",
    "\n",
    "print(len(columns_1))\n",
    "print(len(columns_2))\n",
    "print(len(columns_3))\n",
    "print(len(columns_4))\n",
    "print(len(columns_5))\n",
    "print(len(columns_1)+\n",
    "len(columns_2)+\n",
    "len(columns_3)+\n",
    "len(columns_4)+\n",
    "len(columns_5))\n",
    "print(59-35)"
   ]
  },
  {
   "cell_type": "code",
   "execution_count": 17,
   "metadata": {},
   "outputs": [
    {
     "name": "stdout",
     "output_type": "stream",
     "text": [
      "Index(['hasImage', 'statusType', 'isUserClaimingOwner', 'isUserConfirmedClaim',\n",
      "       'isHomeRec', 'isShowcaseListing', 'isFavorite', 'visited',\n",
      "       'hdpData.homeInfo.daysOnZillow', 'hdpData.homeInfo.shouldHighlight',\n",
      "       'hdpData.homeInfo.isUnmappable',\n",
      "       'hdpData.homeInfo.isPreforeclosureAuction',\n",
      "       'hdpData.homeInfo.isNonOwnerOccupied', 'hdpData.homeInfo.isZillowOwned',\n",
      "       'hdpData.homeInfo.currency', 'hdpData.homeInfo.country',\n",
      "       'hdpData.homeInfo.isShowcaseListing'],\n",
      "      dtype='object')\n"
     ]
    },
    {
     "data": {
      "text/plain": [
       "17"
      ]
     },
     "execution_count": 17,
     "metadata": {},
     "output_type": "execute_result"
    }
   ],
   "source": [
    "cols_to_del = df.loc[:, df.nunique() == 1].columns\n",
    "print(cols_to_del)\n",
    "len(cols_to_del)"
   ]
  },
  {
   "cell_type": "code",
   "execution_count": 19,
   "metadata": {},
   "outputs": [
    {
     "data": {
      "text/plain": [
       "(6206, 42)"
      ]
     },
     "execution_count": 19,
     "metadata": {},
     "output_type": "execute_result"
    }
   ],
   "source": [
    "# removing cols which have one value that means no variance so no info\n",
    "## df.drop(columns=cols_to_del,axis=1,inplace=True)\n",
    "df.shape\n"
   ]
  },
  {
   "cell_type": "code",
   "execution_count": 23,
   "metadata": {},
   "outputs": [
    {
     "data": {
      "text/plain": [
       "(6206, 34)"
      ]
     },
     "execution_count": 23,
     "metadata": {},
     "output_type": "execute_result"
    }
   ],
   "source": [
    "# deleting obivious and redundant data\n",
    "# columns_1 cols have been removed in above code so we don't need to include columns_1 list and more col isShowcaseListing\n",
    "## columns_2.remove('isShowcaseListing')\n",
    "## df.drop(columns=columns_2,axis=1,inplace=True)\n",
    "df.shape"
   ]
  },
  {
   "cell_type": "code",
   "execution_count": 27,
   "metadata": {},
   "outputs": [
    {
     "data": {
      "text/plain": [
       "(6206, 25)"
      ]
     },
     "execution_count": 27,
     "metadata": {},
     "output_type": "execute_result"
    }
   ],
   "source": [
    "# dropping useless cols which are searched manually\n",
    "# alrdy_rm_cols=['isFavorite', 'visited', 'hdpData.homeInfo.daysOnZillow', 'isHomeRec'] \n",
    "# for x in alrdy_rm_cols:\n",
    "#     columns_3.remove(x)\n",
    "## df.drop(columns=columns_3,axis=1,inplace=True)\n",
    "df.shape"
   ]
  },
  {
   "cell_type": "code",
   "execution_count": 30,
   "metadata": {},
   "outputs": [
    {
     "data": {
      "text/plain": [
       "(6206, 20)"
      ]
     },
     "execution_count": 30,
     "metadata": {},
     "output_type": "execute_result"
    }
   ],
   "source": [
    "# alrdy_rm_cols=['hdpData.homeInfo.isNonOwnerOccupied','hdpData.homeInfo.isZillowOwned', 'hasVide0',\n",
    "#                   'hdpData.homeInfo.isUnmappable', 'hdpData.homeInfo.isPreforeclosureAuction']\n",
    "# for x in alrdy_rm_cols:\n",
    "#     columns_4.remove(x)\n",
    "## df.drop(columns=columns_4,axis=1,inplace=True)\n",
    "df.shape"
   ]
  },
  {
   "cell_type": "code",
   "execution_count": 31,
   "metadata": {},
   "outputs": [
    {
     "data": {
      "text/plain": [
       "Index(['rawHomeStatusCd', 'marketingStatusSimplifiedCd', 'statusText', 'beds',\n",
       "       'baths', 'area', 'pgapt', 'sgapt', 'hasVideo',\n",
       "       'hasAdditionalAttributions', 'latLong.latitude', 'latLong.longitude',\n",
       "       'variableData.type', 'variableData.text', 'hdpData.homeInfo.city',\n",
       "       'hdpData.homeInfo.state', 'hdpData.homeInfo.price',\n",
       "       'hdpData.homeInfo.homeType', 'hdpData.homeInfo.rentZestimate',\n",
       "       'hdpData.homeInfo.priceForHDP'],\n",
       "      dtype='object')"
      ]
     },
     "execution_count": 31,
     "metadata": {},
     "output_type": "execute_result"
    }
   ],
   "source": [
    "df.columns"
   ]
  },
  {
   "cell_type": "code",
   "execution_count": 40,
   "metadata": {},
   "outputs": [
    {
     "data": {
      "text/plain": [
       "(6206, 15)"
      ]
     },
     "execution_count": 40,
     "metadata": {},
     "output_type": "execute_result"
    }
   ],
   "source": [
    "# rawHomeStatusCd,marketingStatusSimplifiedCd,statusText\n",
    "# hdpData.homeInfo.priceForHDP is redundant we didn't check\n",
    "## df.drop(columns=['hdpData.homeInfo.priceForHDP','rawHomeStatusCd','marketingStatusSimplifiedCd','statusText','pgapt'],axis=1,inplace=True)\n",
    "df.shape"
   ]
  },
  {
   "cell_type": "code",
   "execution_count": 41,
   "metadata": {},
   "outputs": [
    {
     "data": {
      "text/plain": [
       "Index(['beds', 'baths', 'area', 'sgapt', 'hasVideo',\n",
       "       'hasAdditionalAttributions', 'latLong.latitude', 'latLong.longitude',\n",
       "       'variableData.type', 'variableData.text', 'hdpData.homeInfo.city',\n",
       "       'hdpData.homeInfo.state', 'hdpData.homeInfo.price',\n",
       "       'hdpData.homeInfo.homeType', 'hdpData.homeInfo.rentZestimate'],\n",
       "      dtype='object')"
      ]
     },
     "execution_count": 41,
     "metadata": {},
     "output_type": "execute_result"
    }
   ],
   "source": [
    "df.columns"
   ]
  },
  {
   "cell_type": "code",
   "execution_count": 57,
   "metadata": {},
   "outputs": [
    {
     "data": {
      "text/plain": [
       "variableData.type\n",
       "RECENTLY_SOLD    6123\n",
       "OPEN_HOUSE         10\n",
       "Name: count, dtype: int64"
      ]
     },
     "execution_count": 57,
     "metadata": {},
     "output_type": "execute_result"
    }
   ],
   "source": [
    "df['variableData.type'].value_counts()"
   ]
  },
  {
   "cell_type": "code",
   "execution_count": 52,
   "metadata": {},
   "outputs": [
    {
     "data": {
      "text/plain": [
       "array([0.60602643, 0.39397357])"
      ]
     },
     "execution_count": 52,
     "metadata": {},
     "output_type": "execute_result"
    }
   ],
   "source": [
    "x=df['sgapt'].value_counts()/(6206)\n",
    "x.values\n",
    "for i in range(len(x.values)):\n",
    "    if x[i]>0.80:\n",
    "        df.drop(columns=)"
   ]
  },
  {
   "cell_type": "code",
   "execution_count": null,
   "metadata": {},
   "outputs": [],
   "source": [
    "# columns_1=['hdpData.homeInfo.country','hdpData.homeInfo.currency'] # obivious\n",
    "# columns_2=['price','priceLabel','address','isShowcaseListing','hdpData.homeInfo.bathrooms',\n",
    "#            'hdpData.homeInfo.bedrooms','hdpData.homeInfo.livingArea','hdpData.homeInfo.latitude','hdpData.homeInfo.longitude'] # redundant\n",
    "# columns_3=['zpid','hdpData.homeInfo.zpid','detailUrl','imgSrc','isFavorite','visited',\n",
    "#            'hdpData.homeInfo.daysOnZillow','hdpData.homeInfo.dateSold','isHomeRec'] # useless\n",
    "# columns_4=['shouldShowZestimateAsPrice','isFeaturedListing','hdpData.homeInfo.isFeatured','hdpData.homeInfo.isNonOwnerOccupied',\n",
    "#            'hdpData.homeInfo.isPremierBuilder','hdpData.homeInfo.isZillowOwned'] # more false and less true and may have null values/ too many false's\n",
    "# columns_5=['info6String'] # non-sense"
   ]
  }
 ],
 "metadata": {
  "kernelspec": {
   "display_name": "Python 3",
   "language": "python",
   "name": "python3"
  },
  "language_info": {
   "codemirror_mode": {
    "name": "ipython",
    "version": 3
   },
   "file_extension": ".py",
   "mimetype": "text/x-python",
   "name": "python",
   "nbconvert_exporter": "python",
   "pygments_lexer": "ipython3",
   "version": "3.11.4"
  }
 },
 "nbformat": 4,
 "nbformat_minor": 2
}
